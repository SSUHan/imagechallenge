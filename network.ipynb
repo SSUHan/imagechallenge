{
 "cells": [
  {
   "cell_type": "code",
   "execution_count": 16,
   "metadata": {},
   "outputs": [],
   "source": [
    "import os\n",
    "import glob\n",
    "import h5py\n",
    "import numpy as np\n",
    "from keras import backend as K\n",
    "from keras.models import Sequential, load_model\n",
    "from keras.layers.convolutional import Conv2D, MaxPooling2D\n",
    "from keras.layers.core import Flatten, Dense, Activation, Reshape\n",
    "from keras.layers import Dropout\n",
    "from keras.preprocessing.image import ImageDataGenerator\n",
    "from keras import optimizers"
   ]
  },
  {
   "cell_type": "code",
   "execution_count": 2,
   "metadata": {},
   "outputs": [
    {
     "name": "stdout",
     "output_type": "stream",
     "text": [
      "tf\n"
     ]
    }
   ],
   "source": [
    "print(K.image_dim_ordering())\n",
    "img_width, img_height = 150, 150\n",
    "root_train_folder_path = os.path.join('database', 'train')\n",
    "train_data_dir = os.path.join(root_train_folder_path, 'train')\n",
    "validation_data_dir = os.path.join(root_train_folder_path, 'validation')"
   ]
  },
  {
   "cell_type": "code",
   "execution_count": 3,
   "metadata": {
    "collapsed": true
   },
   "outputs": [],
   "source": [
    "# used to rescale the pixel values from [0, 255] to [0, 1] interval\n",
    "datagen = ImageDataGenerator(rescale=1./255)"
   ]
  },
  {
   "cell_type": "code",
   "execution_count": 4,
   "metadata": {},
   "outputs": [
    {
     "name": "stdout",
     "output_type": "stream",
     "text": [
      "Found 20000 images belonging to 2 classes.\n",
      "Found 5000 images belonging to 2 classes.\n"
     ]
    }
   ],
   "source": [
    "# automagically retrieve images and their classes for train and validation sets\n",
    "train_generator = datagen.flow_from_directory(\n",
    "        train_data_dir,\n",
    "        target_size=(img_width, img_height),\n",
    "        batch_size=16,\n",
    "        class_mode='binary')\n",
    "\n",
    "validation_generator = datagen.flow_from_directory(\n",
    "        validation_data_dir,\n",
    "        target_size=(img_width, img_height),\n",
    "        batch_size=4,\n",
    "        class_mode='binary')"
   ]
  },
  {
   "cell_type": "code",
   "execution_count": 5,
   "metadata": {
    "collapsed": true
   },
   "outputs": [],
   "source": [
    "nb_train_samples = 20000\n",
    "nb_validation_samples = 5000"
   ]
  },
  {
   "cell_type": "code",
   "execution_count": 6,
   "metadata": {
    "collapsed": true
   },
   "outputs": [],
   "source": [
    "model = Sequential()\n",
    "model.add(Conv2D(64, (3, 3), input_shape=(img_width, img_height, 3),padding='same', activation='relu', name='conv1_1'))\n",
    "model.add(Conv2D(64, (3, 3), padding='same', activation='relu', name='conv1_2'))\n",
    "model.add(MaxPooling2D(pool_size=(2, 2)))\n",
    "\n",
    "model.add(Conv2D(128, (3, 3), padding='same', activation='relu', name='conv2_1'))\n",
    "model.add(Conv2D(128, (3, 3), padding='same', activation='relu', name='conv2_2'))\n",
    "model.add(MaxPooling2D(pool_size=(2, 2)))\n",
    "\n",
    "model.add(Conv2D(256, (3, 3), padding='same', activation='relu', name='conv3_1'))\n",
    "model.add(Conv2D(256, (3, 3), padding='same', activation='relu', name='conv3_2'))\n",
    "model.add(Conv2D(256, (3, 3), padding='same', activation='relu', name='conv3_3'))\n",
    "model.add(MaxPooling2D(pool_size=(2, 2)))\n",
    "\n",
    "model.add(Conv2D(512, (3, 3), padding='same', activation='relu', name='conv4_1'))\n",
    "model.add(Conv2D(512, (3, 3), padding='same', activation='relu', name='conv4_2'))\n",
    "model.add(Conv2D(512, (3, 3), padding='same', activation='relu', name='conv4_3'))\n",
    "model.add(MaxPooling2D(pool_size=(2, 2)))\n",
    "\n",
    "# model.add(ZeroPadding2D((1, 1)))\n",
    "# model.add(Convolution2D(512, 3, 3, activation='relu', name='conv5_1'))\n",
    "# model.add(ZeroPadding2D((1, 1)))\n",
    "# model.add(Convolution2D(512, 3, 3, activation='relu', name='conv5_2'))\n",
    "# model.add(ZeroPadding2D((1, 1)))\n",
    "# model.add(Convolution2D(512, 3, 3, activation='relu', name='conv5_3'))\n",
    "# model.add(MaxPooling2D((2, 2), strides=(2, 2)))\n",
    "\n",
    "model.add(Flatten())\n",
    "model.add(Dense(256, activation='relu', name='dense1'))\n",
    "model.add(Dropout(0.5))\n",
    "model.add(Dense(1, activation='sigmoid'))"
   ]
  },
  {
   "cell_type": "code",
   "execution_count": 7,
   "metadata": {},
   "outputs": [
    {
     "name": "stdout",
     "output_type": "stream",
     "text": [
      "_________________________________________________________________\n",
      "Layer (type)                 Output Shape              Param #   \n",
      "=================================================================\n",
      "conv1_1 (Conv2D)             (None, 150, 150, 64)      1792      \n",
      "_________________________________________________________________\n",
      "conv1_2 (Conv2D)             (None, 150, 150, 64)      36928     \n",
      "_________________________________________________________________\n",
      "max_pooling2d_1 (MaxPooling2 (None, 75, 75, 64)        0         \n",
      "_________________________________________________________________\n",
      "conv2_1 (Conv2D)             (None, 75, 75, 128)       73856     \n",
      "_________________________________________________________________\n",
      "conv2_2 (Conv2D)             (None, 75, 75, 128)       147584    \n",
      "_________________________________________________________________\n",
      "max_pooling2d_2 (MaxPooling2 (None, 37, 37, 128)       0         \n",
      "_________________________________________________________________\n",
      "conv3_1 (Conv2D)             (None, 37, 37, 256)       295168    \n",
      "_________________________________________________________________\n",
      "conv3_2 (Conv2D)             (None, 37, 37, 256)       590080    \n",
      "_________________________________________________________________\n",
      "conv3_3 (Conv2D)             (None, 37, 37, 256)       590080    \n",
      "_________________________________________________________________\n",
      "max_pooling2d_3 (MaxPooling2 (None, 18, 18, 256)       0         \n",
      "_________________________________________________________________\n",
      "conv4_1 (Conv2D)             (None, 18, 18, 512)       1180160   \n",
      "_________________________________________________________________\n",
      "conv4_2 (Conv2D)             (None, 18, 18, 512)       2359808   \n",
      "_________________________________________________________________\n",
      "conv4_3 (Conv2D)             (None, 18, 18, 512)       2359808   \n",
      "_________________________________________________________________\n",
      "max_pooling2d_4 (MaxPooling2 (None, 9, 9, 512)         0         \n",
      "_________________________________________________________________\n",
      "flatten_1 (Flatten)          (None, 41472)             0         \n",
      "_________________________________________________________________\n",
      "dense1 (Dense)               (None, 256)               10617088  \n",
      "_________________________________________________________________\n",
      "dropout_1 (Dropout)          (None, 256)               0         \n",
      "_________________________________________________________________\n",
      "dense_1 (Dense)              (None, 1)                 257       \n",
      "=================================================================\n",
      "Total params: 18,252,609\n",
      "Trainable params: 18,252,609\n",
      "Non-trainable params: 0\n",
      "_________________________________________________________________\n"
     ]
    }
   ],
   "source": [
    "model.summary()"
   ]
  },
  {
   "cell_type": "code",
   "execution_count": 8,
   "metadata": {
    "collapsed": true
   },
   "outputs": [],
   "source": [
    "model.compile(loss='binary_crossentropy',\n",
    "          optimizer=optimizers.SGD(lr=1e-4, momentum=0.9),\n",
    "          metrics=['accuracy'])"
   ]
  },
  {
   "cell_type": "code",
   "execution_count": 14,
   "metadata": {},
   "outputs": [
    {
     "name": "stdout",
     "output_type": "stream",
     "text": [
      "Epoch 1/10\n",
      "2000/2000 [==============================] - 351s - loss: 0.6914 - acc: 0.5461 - val_loss: 0.6905 - val_acc: 0.5225\n",
      "Epoch 2/10\n",
      "2000/2000 [==============================] - 351s - loss: 0.6897 - acc: 0.5574 - val_loss: 0.6880 - val_acc: 0.5991\n",
      "Epoch 3/10\n",
      "2000/2000 [==============================] - 350s - loss: 0.6852 - acc: 0.5809 - val_loss: 0.6806 - val_acc: 0.5997\n",
      "Epoch 4/10\n",
      "2000/2000 [==============================] - 349s - loss: 0.6723 - acc: 0.5895 - val_loss: 0.6642 - val_acc: 0.5809\n",
      "Epoch 5/10\n",
      "2000/2000 [==============================] - 350s - loss: 0.6577 - acc: 0.6027 - val_loss: 0.6465 - val_acc: 0.6122\n",
      "Epoch 6/10\n",
      "2000/2000 [==============================] - 350s - loss: 0.6501 - acc: 0.6073 - val_loss: 0.6859 - val_acc: 0.5487\n",
      "Epoch 7/10\n",
      "2000/2000 [==============================] - 351s - loss: 0.6422 - acc: 0.6189 - val_loss: 0.6300 - val_acc: 0.6191\n",
      "Epoch 8/10\n",
      "2000/2000 [==============================] - 350s - loss: 0.6328 - acc: 0.6276 - val_loss: 0.6211 - val_acc: 0.6353\n",
      "Epoch 9/10\n",
      "2000/2000 [==============================] - 351s - loss: 0.6224 - acc: 0.6396 - val_loss: 0.6160 - val_acc: 0.6422\n",
      "Epoch 10/10\n",
      "2000/2000 [==============================] - 351s - loss: 0.6115 - acc: 0.6497 - val_loss: 0.6029 - val_acc: 0.6544\n"
     ]
    },
    {
     "data": {
      "text/plain": [
       "<keras.callbacks.History at 0x28174136278>"
      ]
     },
     "execution_count": 14,
     "metadata": {},
     "output_type": "execute_result"
    }
   ],
   "source": [
    "model.fit_generator(\n",
    "        train_generator,\n",
    "        steps_per_epoch=2000,\n",
    "        epochs=10,\n",
    "        validation_data=validation_generator,\n",
    "        validation_steps=800, \n",
    "        verbose=1)"
   ]
  },
  {
   "cell_type": "code",
   "execution_count": 15,
   "metadata": {
    "collapsed": true
   },
   "outputs": [],
   "source": [
    "models_folder_path = os.path.join(\"models\")\n",
    "model_name = \"simple_with_dropout\"\n",
    "model.save(os.path.join(models_folder_path, model_name) + '-steps{}.h5'.format(10))"
   ]
  },
  {
   "cell_type": "code",
   "execution_count": 18,
   "metadata": {},
   "outputs": [],
   "source": [
    "loaded_model = load_model(os.path.join(models_folder_path, model_name) + '-steps{}.h5'.format(10))"
   ]
  },
  {
   "cell_type": "code",
   "execution_count": 19,
   "metadata": {},
   "outputs": [
    {
     "name": "stdout",
     "output_type": "stream",
     "text": [
      "Epoch 1/50\n",
      "2000/2000 [==============================] - 352s - loss: 0.5983 - acc: 0.6590 - val_loss: 0.5962 - val_acc: 0.6716\n",
      "Epoch 2/50\n",
      "2000/2000 [==============================] - 350s - loss: 0.5870 - acc: 0.6739 - val_loss: 0.5796 - val_acc: 0.6847\n",
      "Epoch 3/50\n",
      "2000/2000 [==============================] - 351s - loss: 0.5760 - acc: 0.6821 - val_loss: 0.5675 - val_acc: 0.6931\n",
      "Epoch 4/50\n",
      "2000/2000 [==============================] - 350s - loss: 0.5613 - acc: 0.7009 - val_loss: 0.5492 - val_acc: 0.7228\n",
      "Epoch 5/50\n",
      "2000/2000 [==============================] - 351s - loss: 0.5492 - acc: 0.7110 - val_loss: 0.5314 - val_acc: 0.7366\n",
      "Epoch 6/50\n",
      "2000/2000 [==============================] - 351s - loss: 0.5362 - acc: 0.7226 - val_loss: 0.5188 - val_acc: 0.7453\n",
      "Epoch 7/50\n",
      "2000/2000 [==============================] - 350s - loss: 0.5285 - acc: 0.7330 - val_loss: 0.5233 - val_acc: 0.7416\n",
      "Epoch 8/50\n",
      "2000/2000 [==============================] - 350s - loss: 0.5150 - acc: 0.7420 - val_loss: 0.5041 - val_acc: 0.7506\n",
      "Epoch 9/50\n",
      "2000/2000 [==============================] - 350s - loss: 0.5104 - acc: 0.7443 - val_loss: 0.4968 - val_acc: 0.7525\n",
      "Epoch 10/50\n",
      "2000/2000 [==============================] - 350s - loss: 0.5004 - acc: 0.7536 - val_loss: 0.4841 - val_acc: 0.7631\n",
      "Epoch 11/50\n",
      "2000/2000 [==============================] - 351s - loss: 0.4920 - acc: 0.7609 - val_loss: 0.4940 - val_acc: 0.7622\n",
      "Epoch 12/50\n",
      "2000/2000 [==============================] - 351s - loss: 0.4842 - acc: 0.7638 - val_loss: 0.4664 - val_acc: 0.7806\n",
      "Epoch 13/50\n",
      "2000/2000 [==============================] - 350s - loss: 0.4746 - acc: 0.7727 - val_loss: 0.4698 - val_acc: 0.7703\n",
      "Epoch 14/50\n",
      "2000/2000 [==============================] - 350s - loss: 0.4686 - acc: 0.7754 - val_loss: 0.4474 - val_acc: 0.7875\n",
      "Epoch 15/50\n",
      "2000/2000 [==============================] - 350s - loss: 0.4614 - acc: 0.7797 - val_loss: 0.4586 - val_acc: 0.7853\n",
      "Epoch 16/50\n",
      "2000/2000 [==============================] - 350s - loss: 0.4535 - acc: 0.7857 - val_loss: 0.4431 - val_acc: 0.7878\n",
      "Epoch 17/50\n",
      "2000/2000 [==============================] - 350s - loss: 0.4490 - acc: 0.7895 - val_loss: 0.4304 - val_acc: 0.8028\n",
      "Epoch 18/50\n",
      "2000/2000 [==============================] - 350s - loss: 0.4385 - acc: 0.7945 - val_loss: 0.4460 - val_acc: 0.7853\n",
      "Epoch 19/50\n",
      "2000/2000 [==============================] - 350s - loss: 0.4327 - acc: 0.7969 - val_loss: 0.4216 - val_acc: 0.8122\n",
      "Epoch 20/50\n",
      "2000/2000 [==============================] - 350s - loss: 0.4217 - acc: 0.8044 - val_loss: 0.4591 - val_acc: 0.7766\n",
      "Epoch 21/50\n",
      "2000/2000 [==============================] - 350s - loss: 0.4143 - acc: 0.8068 - val_loss: 0.4558 - val_acc: 0.7822\n",
      "Epoch 22/50\n",
      "2000/2000 [==============================] - 354s - loss: 0.4095 - acc: 0.8127 - val_loss: 0.4156 - val_acc: 0.8078\n",
      "Epoch 23/50\n",
      "2000/2000 [==============================] - 352s - loss: 0.3971 - acc: 0.8175 - val_loss: 0.3883 - val_acc: 0.8294\n",
      "Epoch 24/50\n",
      "2000/2000 [==============================] - 350s - loss: 0.3899 - acc: 0.8240 - val_loss: 0.3913 - val_acc: 0.8250\n",
      "Epoch 25/50\n",
      "2000/2000 [==============================] - 350s - loss: 0.3867 - acc: 0.8270 - val_loss: 0.4085 - val_acc: 0.8059\n",
      "Epoch 26/50\n",
      "2000/2000 [==============================] - 350s - loss: 0.3792 - acc: 0.8294 - val_loss: 0.4040 - val_acc: 0.8141\n",
      "Epoch 27/50\n",
      "2000/2000 [==============================] - 350s - loss: 0.3675 - acc: 0.8364 - val_loss: 0.3865 - val_acc: 0.8244\n",
      "Epoch 28/50\n",
      "2000/2000 [==============================] - 350s - loss: 0.3542 - acc: 0.8420 - val_loss: 0.3757 - val_acc: 0.8387\n",
      "Epoch 29/50\n",
      "2000/2000 [==============================] - 350s - loss: 0.3526 - acc: 0.8426 - val_loss: 0.3719 - val_acc: 0.8322\n",
      "Epoch 30/50\n",
      "2000/2000 [==============================] - 350s - loss: 0.3421 - acc: 0.8507 - val_loss: 0.3661 - val_acc: 0.8300\n",
      "Epoch 31/50\n",
      "2000/2000 [==============================] - 350s - loss: 0.3345 - acc: 0.8545 - val_loss: 0.3660 - val_acc: 0.8378\n",
      "Epoch 32/50\n",
      "2000/2000 [==============================] - 350s - loss: 0.3234 - acc: 0.8577 - val_loss: 0.3551 - val_acc: 0.8478\n",
      "Epoch 33/50\n",
      "2000/2000 [==============================] - 350s - loss: 0.3152 - acc: 0.8638 - val_loss: 0.3340 - val_acc: 0.8506\n",
      "Epoch 34/50\n",
      "2000/2000 [==============================] - 350s - loss: 0.3098 - acc: 0.8665 - val_loss: 0.3253 - val_acc: 0.8562\n",
      "Epoch 35/50\n",
      "2000/2000 [==============================] - 350s - loss: 0.2999 - acc: 0.8712 - val_loss: 0.3259 - val_acc: 0.8538\n",
      "Epoch 36/50\n",
      "2000/2000 [==============================] - 350s - loss: 0.2906 - acc: 0.8754 - val_loss: 0.3087 - val_acc: 0.8669\n",
      "Epoch 37/50\n",
      "2000/2000 [==============================] - 350s - loss: 0.2868 - acc: 0.8782 - val_loss: 0.2977 - val_acc: 0.8728\n",
      "Epoch 38/50\n",
      "2000/2000 [==============================] - 350s - loss: 0.2732 - acc: 0.8853 - val_loss: 0.3021 - val_acc: 0.8716\n",
      "Epoch 39/50\n",
      "2000/2000 [==============================] - 350s - loss: 0.2664 - acc: 0.8879 - val_loss: 0.3235 - val_acc: 0.8641\n",
      "Epoch 40/50\n",
      "2000/2000 [==============================] - 350s - loss: 0.2603 - acc: 0.8923 - val_loss: 0.2679 - val_acc: 0.8809\n",
      "Epoch 41/50\n",
      "2000/2000 [==============================] - 350s - loss: 0.2498 - acc: 0.8960 - val_loss: 0.2864 - val_acc: 0.8834\n",
      "Epoch 42/50\n",
      "2000/2000 [==============================] - 350s - loss: 0.2389 - acc: 0.9010 - val_loss: 0.2900 - val_acc: 0.8822\n",
      "Epoch 43/50\n",
      "2000/2000 [==============================] - 350s - loss: 0.2314 - acc: 0.9054 - val_loss: 0.2945 - val_acc: 0.8734\n",
      "Epoch 44/50\n",
      "2000/2000 [==============================] - 350s - loss: 0.2261 - acc: 0.9066 - val_loss: 0.2698 - val_acc: 0.8806\n",
      "Epoch 45/50\n",
      "2000/2000 [==============================] - 350s - loss: 0.2186 - acc: 0.9105 - val_loss: 0.2321 - val_acc: 0.9106\n",
      "Epoch 46/50\n",
      "2000/2000 [==============================] - 350s - loss: 0.2118 - acc: 0.9127 - val_loss: 0.2701 - val_acc: 0.8866\n",
      "Epoch 47/50\n",
      "2000/2000 [==============================] - 350s - loss: 0.2026 - acc: 0.9163 - val_loss: 0.3048 - val_acc: 0.8712\n",
      "Epoch 48/50\n",
      "2000/2000 [==============================] - 350s - loss: 0.1962 - acc: 0.9197 - val_loss: 0.2468 - val_acc: 0.8966\n",
      "Epoch 49/50\n",
      "2000/2000 [==============================] - 350s - loss: 0.1887 - acc: 0.9237 - val_loss: 0.2488 - val_acc: 0.8991\n",
      "Epoch 50/50\n",
      "2000/2000 [==============================] - 350s - loss: 0.1814 - acc: 0.9258 - val_loss: 0.2523 - val_acc: 0.8975\n"
     ]
    },
    {
     "data": {
      "text/plain": [
       "<keras.callbacks.History at 0x28102cc4390>"
      ]
     },
     "execution_count": 19,
     "metadata": {},
     "output_type": "execute_result"
    }
   ],
   "source": [
    "loaded_model.fit_generator(\n",
    "        train_generator,\n",
    "        steps_per_epoch=2000,\n",
    "        epochs=50,\n",
    "        validation_data=validation_generator,\n",
    "        validation_steps=800, \n",
    "        verbose=1)"
   ]
  },
  {
   "cell_type": "code",
   "execution_count": 21,
   "metadata": {
    "collapsed": true
   },
   "outputs": [],
   "source": [
    "loaded_model.save(os.path.join(models_folder_path, model_name) + '-steps{}.h5'.format(60))"
   ]
  },
  {
   "cell_type": "code",
   "execution_count": null,
   "metadata": {
    "collapsed": true
   },
   "outputs": [],
   "source": []
  }
 ],
 "metadata": {
  "kernelspec": {
   "display_name": "Python 3",
   "language": "python",
   "name": "python3"
  },
  "language_info": {
   "codemirror_mode": {
    "name": "ipython",
    "version": 3
   },
   "file_extension": ".py",
   "mimetype": "text/x-python",
   "name": "python",
   "nbconvert_exporter": "python",
   "pygments_lexer": "ipython3",
   "version": "3.5.3"
  }
 },
 "nbformat": 4,
 "nbformat_minor": 2
}
