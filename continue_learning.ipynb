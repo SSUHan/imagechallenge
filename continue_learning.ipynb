{
 "cells": [
  {
   "cell_type": "code",
   "execution_count": 1,
   "metadata": {},
   "outputs": [
    {
     "name": "stderr",
     "output_type": "stream",
     "text": [
      "Using TensorFlow backend.\n"
     ]
    }
   ],
   "source": [
    "import os\n",
    "import glob\n",
    "import h5py\n",
    "import numpy as np\n",
    "from keras import backend as K\n",
    "from keras.models import Sequential, load_model\n",
    "from keras.layers.convolutional import Conv2D, MaxPooling2D\n",
    "from keras.layers.core import Flatten, Dense, Activation, Reshape\n",
    "from keras.layers import Dropout\n",
    "from keras.preprocessing.image import ImageDataGenerator\n",
    "from keras import optimizers\n",
    "from keras.callbacks import Callback"
   ]
  },
  {
   "cell_type": "code",
   "execution_count": 2,
   "metadata": {},
   "outputs": [
    {
     "name": "stdout",
     "output_type": "stream",
     "text": [
      "tf\n"
     ]
    }
   ],
   "source": [
    "print(K.image_dim_ordering())\n",
    "img_width, img_height = 150, 150\n",
    "root_train_folder_path = os.path.join('database', 'train')\n",
    "train_data_dir = os.path.join(root_train_folder_path, 'train')\n",
    "validation_data_dir = os.path.join(root_train_folder_path, 'validation')"
   ]
  },
  {
   "cell_type": "code",
   "execution_count": 3,
   "metadata": {
    "collapsed": true
   },
   "outputs": [],
   "source": [
    "# used to rescale the pixel values from [0, 255] to [0, 1] interval\n",
    "datagen = ImageDataGenerator(rescale=1./255)"
   ]
  },
  {
   "cell_type": "code",
   "execution_count": 4,
   "metadata": {},
   "outputs": [
    {
     "name": "stdout",
     "output_type": "stream",
     "text": [
      "Found 20000 images belonging to 2 classes.\n",
      "Found 5000 images belonging to 2 classes.\n"
     ]
    }
   ],
   "source": [
    "# automagically retrieve images and their classes for train and validation sets\n",
    "train_generator = datagen.flow_from_directory(\n",
    "        train_data_dir,\n",
    "        target_size=(img_width, img_height),\n",
    "        batch_size=16,\n",
    "        class_mode='binary')\n",
    "\n",
    "validation_generator = datagen.flow_from_directory(\n",
    "        validation_data_dir,\n",
    "        target_size=(img_width, img_height),\n",
    "        batch_size=4,\n",
    "        class_mode='binary')"
   ]
  },
  {
   "cell_type": "code",
   "execution_count": 5,
   "metadata": {
    "collapsed": true
   },
   "outputs": [],
   "source": [
    "nb_train_samples = 20000\n",
    "nb_validation_samples = 500"
   ]
  },
  {
   "cell_type": "code",
   "execution_count": 6,
   "metadata": {
    "collapsed": true
   },
   "outputs": [],
   "source": [
    "models_folder_path = os.path.join(\"models\")\n",
    "model_name = \"simple_with_dropout\"\n",
    "model = load_model(os.path.join(models_folder_path, model_name) + '-steps{}.h5'.format(60))"
   ]
  },
  {
   "cell_type": "code",
   "execution_count": 7,
   "metadata": {},
   "outputs": [
    {
     "name": "stdout",
     "output_type": "stream",
     "text": [
      "_________________________________________________________________\n",
      "Layer (type)                 Output Shape              Param #   \n",
      "=================================================================\n",
      "conv1_1 (Conv2D)             (None, 150, 150, 64)      1792      \n",
      "_________________________________________________________________\n",
      "conv1_2 (Conv2D)             (None, 150, 150, 64)      36928     \n",
      "_________________________________________________________________\n",
      "max_pooling2d_1 (MaxPooling2 (None, 75, 75, 64)        0         \n",
      "_________________________________________________________________\n",
      "conv2_1 (Conv2D)             (None, 75, 75, 128)       73856     \n",
      "_________________________________________________________________\n",
      "conv2_2 (Conv2D)             (None, 75, 75, 128)       147584    \n",
      "_________________________________________________________________\n",
      "max_pooling2d_2 (MaxPooling2 (None, 37, 37, 128)       0         \n",
      "_________________________________________________________________\n",
      "conv3_1 (Conv2D)             (None, 37, 37, 256)       295168    \n",
      "_________________________________________________________________\n",
      "conv3_2 (Conv2D)             (None, 37, 37, 256)       590080    \n",
      "_________________________________________________________________\n",
      "conv3_3 (Conv2D)             (None, 37, 37, 256)       590080    \n",
      "_________________________________________________________________\n",
      "max_pooling2d_3 (MaxPooling2 (None, 18, 18, 256)       0         \n",
      "_________________________________________________________________\n",
      "conv4_1 (Conv2D)             (None, 18, 18, 512)       1180160   \n",
      "_________________________________________________________________\n",
      "conv4_2 (Conv2D)             (None, 18, 18, 512)       2359808   \n",
      "_________________________________________________________________\n",
      "conv4_3 (Conv2D)             (None, 18, 18, 512)       2359808   \n",
      "_________________________________________________________________\n",
      "max_pooling2d_4 (MaxPooling2 (None, 9, 9, 512)         0         \n",
      "_________________________________________________________________\n",
      "flatten_1 (Flatten)          (None, 41472)             0         \n",
      "_________________________________________________________________\n",
      "dense1 (Dense)               (None, 256)               10617088  \n",
      "_________________________________________________________________\n",
      "dropout_1 (Dropout)          (None, 256)               0         \n",
      "_________________________________________________________________\n",
      "dense_1 (Dense)              (None, 1)                 257       \n",
      "=================================================================\n",
      "Total params: 18,252,609\n",
      "Trainable params: 18,252,609\n",
      "Non-trainable params: 0\n",
      "_________________________________________________________________\n"
     ]
    }
   ],
   "source": [
    "model.summary()"
   ]
  },
  {
   "cell_type": "code",
   "execution_count": null,
   "metadata": {
    "collapsed": true
   },
   "outputs": [],
   "source": [
    "class ModelCheckpoint(Callback):\n",
    "    def __init__(self, model_ptr, model_path):\n",
    "        self.curr_model = model_ptr\n",
    "        self.model_path = model_path\n",
    "    \n",
    "    def on_train_begin(self, logs={}):\n",
    "        # print(\"train start!!\")\n",
    "        pass\n",
    "    \n",
    "    def on_batch_end(self, batch, logs={}):\n",
    "        # print(\"batch start!! \", batch)\n",
    "        pass\n",
    "    \n",
    "    def on_epoch_end(self, epoch, logs={}):\n",
    "        self.curr_model.save(self.model_path + '-epoch{}.h5'.format(epoch))"
   ]
  },
  {
   "cell_type": "code",
   "execution_count": null,
   "metadata": {},
   "outputs": [
    {
     "name": "stdout",
     "output_type": "stream",
     "text": [
      "Epoch 1/50\n",
      "2000/2000 [==============================] - 437s - loss: 0.1722 - acc: 0.9305 - val_loss: 0.2346 - val_acc: 0.9066\n",
      "Epoch 2/50\n",
      "2000/2000 [==============================] - 364s - loss: 0.1669 - acc: 0.9324 - val_loss: 0.2611 - val_acc: 0.8912\n",
      "Epoch 3/50\n",
      "2000/2000 [==============================] - 351s - loss: 0.1586 - acc: 0.9379 - val_loss: 0.2427 - val_acc: 0.9050\n",
      "Epoch 4/50\n",
      "2000/2000 [==============================] - 351s - loss: 0.1511 - acc: 0.9394 - val_loss: 0.2390 - val_acc: 0.9050\n",
      "Epoch 5/50\n",
      "2000/2000 [==============================] - 351s - loss: 0.1475 - acc: 0.9417 - val_loss: 0.2700 - val_acc: 0.8959\n",
      "Epoch 6/50\n",
      "2000/2000 [==============================] - 351s - loss: 0.1411 - acc: 0.9427 - val_loss: 0.3132 - val_acc: 0.8866\n",
      "Epoch 7/50\n",
      "2000/2000 [==============================] - 351s - loss: 0.1311 - acc: 0.9479 - val_loss: 0.2300 - val_acc: 0.9178\n",
      "Epoch 8/50\n",
      "2000/2000 [==============================] - 351s - loss: 0.1268 - acc: 0.9486 - val_loss: 0.2520 - val_acc: 0.9103\n",
      "Epoch 9/50\n",
      "2000/2000 [==============================] - 351s - loss: 0.1208 - acc: 0.9523 - val_loss: 0.2612 - val_acc: 0.9041\n",
      "Epoch 10/50\n",
      "2000/2000 [==============================] - 350s - loss: 0.1151 - acc: 0.9544 - val_loss: 0.2559 - val_acc: 0.9081\n",
      "Epoch 11/50\n",
      "2000/2000 [==============================] - 351s - loss: 0.1074 - acc: 0.9584 - val_loss: 0.2327 - val_acc: 0.9153\n",
      "Epoch 12/50\n",
      "2000/2000 [==============================] - 350s - loss: 0.1014 - acc: 0.9597 - val_loss: 0.3010 - val_acc: 0.8888\n",
      "Epoch 13/50\n",
      "2000/2000 [==============================] - 351s - loss: 0.1014 - acc: 0.9600 - val_loss: 0.2642 - val_acc: 0.9125\n",
      "Epoch 14/50\n",
      "2000/2000 [==============================] - 351s - loss: 0.0900 - acc: 0.9667 - val_loss: 0.2581 - val_acc: 0.9078\n",
      "Epoch 15/50\n",
      "2000/2000 [==============================] - 350s - loss: 0.0890 - acc: 0.9658 - val_loss: 0.2805 - val_acc: 0.9003\n",
      "Epoch 16/50\n",
      "2000/2000 [==============================] - 351s - loss: 0.0805 - acc: 0.9698 - val_loss: 0.3386 - val_acc: 0.8928\n",
      "Epoch 17/50\n",
      "2000/2000 [==============================] - 350s - loss: 0.0748 - acc: 0.9712 - val_loss: 0.3013 - val_acc: 0.9144\n",
      "Epoch 18/50\n",
      "2000/2000 [==============================] - 351s - loss: 0.0716 - acc: 0.9725 - val_loss: 0.2839 - val_acc: 0.9075\n",
      "Epoch 19/50\n",
      "2000/2000 [==============================] - 351s - loss: 0.0658 - acc: 0.9755 - val_loss: 0.3084 - val_acc: 0.9181\n",
      "Epoch 20/50\n",
      "2000/2000 [==============================] - 351s - loss: 0.0713 - acc: 0.9729 - val_loss: 0.2620 - val_acc: 0.9191\n",
      "Epoch 21/50\n",
      "2000/2000 [==============================] - 351s - loss: 0.0555 - acc: 0.9794 - val_loss: 0.2944 - val_acc: 0.9213\n",
      "Epoch 22/50\n",
      "2000/2000 [==============================] - 350s - loss: 0.0583 - acc: 0.9777 - val_loss: 0.2560 - val_acc: 0.9253\n",
      "Epoch 23/50\n",
      "2000/2000 [==============================] - 350s - loss: 0.0558 - acc: 0.9793 - val_loss: 0.3137 - val_acc: 0.9213\n",
      "Epoch 24/50\n",
      "2000/2000 [==============================] - 350s - loss: 0.0484 - acc: 0.9821 - val_loss: 0.3220 - val_acc: 0.9072\n",
      "Epoch 25/50\n",
      "2000/2000 [==============================] - 351s - loss: 0.0501 - acc: 0.9815 - val_loss: 0.3440 - val_acc: 0.9134\n",
      "Epoch 26/50\n",
      "2000/2000 [==============================] - 350s - loss: 0.0414 - acc: 0.9848 - val_loss: 0.4221 - val_acc: 0.9056\n",
      "Epoch 27/50\n",
      "2000/2000 [==============================] - 350s - loss: 0.0414 - acc: 0.9850 - val_loss: 0.2883 - val_acc: 0.9153\n",
      "Epoch 28/50\n",
      "2000/2000 [==============================] - 351s - loss: 0.0353 - acc: 0.9870 - val_loss: 0.3415 - val_acc: 0.9184\n",
      "Epoch 29/50\n",
      "2000/2000 [==============================] - 351s - loss: 0.0420 - acc: 0.9843 - val_loss: 0.3886 - val_acc: 0.9125\n",
      "Epoch 30/50\n",
      "2000/2000 [==============================] - 351s - loss: 0.0329 - acc: 0.9882 - val_loss: 0.3131 - val_acc: 0.9234\n",
      "Epoch 31/50\n",
      "2000/2000 [==============================] - 350s - loss: 0.0318 - acc: 0.9887 - val_loss: 0.4107 - val_acc: 0.9116\n",
      "Epoch 32/50\n",
      "2000/2000 [==============================] - 350s - loss: 0.0301 - acc: 0.9894 - val_loss: 0.3105 - val_acc: 0.9281\n",
      "Epoch 33/50\n",
      "2000/2000 [==============================] - 349s - loss: 0.0285 - acc: 0.9902 - val_loss: 0.4576 - val_acc: 0.9097\n",
      "Epoch 34/50\n",
      "2000/2000 [==============================] - 350s - loss: 0.0299 - acc: 0.9890 - val_loss: 0.3176 - val_acc: 0.9263\n",
      "Epoch 35/50\n",
      "2000/2000 [==============================] - 350s - loss: 0.0241 - acc: 0.9917 - val_loss: 0.4150 - val_acc: 0.9150\n",
      "Epoch 36/50\n",
      "2000/2000 [==============================] - 349s - loss: 0.0215 - acc: 0.9924 - val_loss: 0.3535 - val_acc: 0.9269\n",
      "Epoch 37/50\n",
      "2000/2000 [==============================] - 350s - loss: 0.0213 - acc: 0.9922 - val_loss: 0.3937 - val_acc: 0.9159\n",
      "Epoch 38/50\n",
      "2000/2000 [==============================] - 349s - loss: 0.0223 - acc: 0.9924 - val_loss: 0.4467 - val_acc: 0.9047\n",
      "Epoch 39/50\n",
      "2000/2000 [==============================] - 347s - loss: 0.0238 - acc: 0.9924 - val_loss: 0.3408 - val_acc: 0.9203\n",
      "Epoch 40/50\n",
      "2000/2000 [==============================] - 349s - loss: 0.0173 - acc: 0.9941 - val_loss: 0.4068 - val_acc: 0.9144\n",
      "Epoch 41/50\n",
      "2000/2000 [==============================] - 349s - loss: 0.0206 - acc: 0.9930 - val_loss: 0.4060 - val_acc: 0.9156\n",
      "Epoch 42/50\n",
      "2000/2000 [==============================] - 347s - loss: 0.0184 - acc: 0.9938 - val_loss: 0.3843 - val_acc: 0.9172\n",
      "Epoch 43/50\n",
      "2000/2000 [==============================] - 349s - loss: 0.0154 - acc: 0.9947 - val_loss: 0.4094 - val_acc: 0.9163\n",
      "Epoch 44/50\n",
      "2000/2000 [==============================] - 348s - loss: 0.0168 - acc: 0.9947 - val_loss: 0.3628 - val_acc: 0.9228\n",
      "Epoch 45/50\n",
      "2000/2000 [==============================] - 348s - loss: 0.0061 - acc: 0.9983 - val_loss: 0.4358 - val_acc: 0.9253\n",
      "Epoch 46/50\n",
      "1999/2000 [============================>.] - ETA: 0s - loss: 0.0019 - acc: 0.9997"
     ]
    }
   ],
   "source": [
    "models_folder_path = os.path.join('database', 'models')\n",
    "model_name = \"continue_callback_model\"\n",
    "model_name_path = os.path.join(models_folder_path, model_name)\n",
    "\n",
    "checkpoints = ModelCheckpoint(model, model_name_path)\n",
    "\n",
    "model.fit_generator(\n",
    "        train_generator,\n",
    "        steps_per_epoch=2000,\n",
    "        epochs=50,\n",
    "        validation_data=validation_generator,\n",
    "        validation_steps=800,\n",
    "        verbose=1,\n",
    "        callbacks=[checkpoints])"
   ]
  },
  {
   "cell_type": "code",
   "execution_count": null,
   "metadata": {
    "collapsed": true
   },
   "outputs": [],
   "source": []
  }
 ],
 "metadata": {
  "kernelspec": {
   "display_name": "Python 3",
   "language": "python",
   "name": "python3"
  },
  "language_info": {
   "codemirror_mode": {
    "name": "ipython",
    "version": 3
   },
   "file_extension": ".py",
   "mimetype": "text/x-python",
   "name": "python",
   "nbconvert_exporter": "python",
   "pygments_lexer": "ipython3",
   "version": "3.5.3"
  }
 },
 "nbformat": 4,
 "nbformat_minor": 2
}
